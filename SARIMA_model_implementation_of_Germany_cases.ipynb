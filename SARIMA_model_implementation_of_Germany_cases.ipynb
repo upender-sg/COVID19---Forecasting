{
  "nbformat": 4,
  "nbformat_minor": 0,
  "metadata": {
    "kernelspec": {
      "display_name": "Python 3",
      "language": "python",
      "name": "python3"
    },
    "language_info": {
      "codemirror_mode": {
        "name": "ipython",
        "version": 3
      },
      "file_extension": ".py",
      "mimetype": "text/x-python",
      "name": "python",
      "nbconvert_exporter": "python",
      "pygments_lexer": "ipython3",
      "version": "3.6.9"
    },
    "colab": {
      "name": "SARIMA_model_implementation_of_Germany_cases.ipynb",
      "provenance": []
    }
  },
  "cells": [
    {
      "cell_type": "code",
      "metadata": {
        "id": "BVWMApiRas65",
        "colab_type": "code",
        "colab": {
          "base_uri": "https://localhost:8080/",
          "height": 71
        },
        "outputId": "442568a8-fa56-404d-90f1-be59154b7dec"
      },
      "source": [
        "%matplotlib inline\n",
        "\n",
        "import sys\n",
        "sys.path.append(\"../\")\n",
        "import copy\n",
        "import itertools\n",
        "import operator\n",
        "import pandas as pd\n",
        "import numpy as np\n",
        "import matplotlib.pyplot as plt\n",
        "from sklearn.metrics import mean_squared_error, mean_absolute_error, r2_score\n",
        "from math import sqrt\n",
        "\n",
        "from statsmodels.tsa.seasonal import seasonal_decompose\n",
        "from statsmodels.tsa.stattools import adfuller, acf, pacf\n",
        "from statsmodels.tsa.arima_model import ARIMA\n",
        "from statsmodels.tsa.statespace.sarimax import SARIMAX\n",
        "import warnings\n",
        "warnings.simplefilter('ignore')\n",
        "\n"
      ],
      "execution_count": 1,
      "outputs": [
        {
          "output_type": "stream",
          "text": [
            "/usr/local/lib/python3.6/dist-packages/statsmodels/tools/_testing.py:19: FutureWarning: pandas.util.testing is deprecated. Use the functions in the public API at pandas.testing instead.\n",
            "  import pandas.util.testing as tm\n"
          ],
          "name": "stderr"
        }
      ]
    },
    {
      "cell_type": "code",
      "metadata": {
        "id": "3B5IjpBxbAi5",
        "colab_type": "code",
        "colab": {
          "resources": {
            "http://localhost:8080/nbextensions/google.colab/files.js": {
              "data": "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",
              "ok": true,
              "headers": [
                [
                  "content-type",
                  "application/javascript"
                ]
              ],
              "status": 200,
              "status_text": ""
            }
          },
          "base_uri": "https://localhost:8080/",
          "height": 38
        },
        "outputId": "353ddc8b-2daf-473e-e1b1-147f6032b756"
      },
      "source": [
        "from google.colab import files\n",
        "uploaded = files.upload()"
      ],
      "execution_count": 3,
      "outputs": [
        {
          "output_type": "display_data",
          "data": {
            "text/html": [
              "\n",
              "     <input type=\"file\" id=\"files-a7330ce8-b065-4a61-b85e-b7d165fb7f88\" name=\"files[]\" multiple disabled\n",
              "        style=\"border:none\" />\n",
              "     <output id=\"result-a7330ce8-b065-4a61-b85e-b7d165fb7f88\">\n",
              "      Upload widget is only available when the cell has been executed in the\n",
              "      current browser session. Please rerun this cell to enable.\n",
              "      </output>\n",
              "      <script src=\"/nbextensions/google.colab/files.js\"></script> "
            ],
            "text/plain": [
              "<IPython.core.display.HTML object>"
            ]
          },
          "metadata": {
            "tags": []
          }
        }
      ]
    },
    {
      "cell_type": "code",
      "metadata": {
        "id": "kj3K8EYcas7B",
        "colab_type": "code",
        "colab": {
          "base_uri": "https://localhost:8080/",
          "height": 419
        },
        "outputId": "aa4212bc-1f14-4a5c-9401-7918e3f3524c"
      },
      "source": [
        "dataframe=pd.read_csv('covid_19_clean_complete (1).csv', parse_dates=['Date'])\n",
        "dataframe['Province/State']=dataframe['Province/State'].fillna('')\n",
        "dataframe.rename(columns={'Country/Region':'Country','Province/State':'State'},inplace=True)\n",
        "dataframe"
      ],
      "execution_count": 5,
      "outputs": [
        {
          "output_type": "execute_result",
          "data": {
            "text/html": [
              "<div>\n",
              "<style scoped>\n",
              "    .dataframe tbody tr th:only-of-type {\n",
              "        vertical-align: middle;\n",
              "    }\n",
              "\n",
              "    .dataframe tbody tr th {\n",
              "        vertical-align: top;\n",
              "    }\n",
              "\n",
              "    .dataframe thead th {\n",
              "        text-align: right;\n",
              "    }\n",
              "</style>\n",
              "<table border=\"1\" class=\"dataframe\">\n",
              "  <thead>\n",
              "    <tr style=\"text-align: right;\">\n",
              "      <th></th>\n",
              "      <th>State</th>\n",
              "      <th>Country</th>\n",
              "      <th>Lat</th>\n",
              "      <th>Long</th>\n",
              "      <th>Date</th>\n",
              "      <th>Confirmed</th>\n",
              "      <th>Deaths</th>\n",
              "      <th>Recovered</th>\n",
              "    </tr>\n",
              "  </thead>\n",
              "  <tbody>\n",
              "    <tr>\n",
              "      <th>0</th>\n",
              "      <td></td>\n",
              "      <td>Afghanistan</td>\n",
              "      <td>33.000000</td>\n",
              "      <td>65.000000</td>\n",
              "      <td>2020-01-22</td>\n",
              "      <td>0</td>\n",
              "      <td>0</td>\n",
              "      <td>0</td>\n",
              "    </tr>\n",
              "    <tr>\n",
              "      <th>1</th>\n",
              "      <td></td>\n",
              "      <td>Albania</td>\n",
              "      <td>41.153300</td>\n",
              "      <td>20.168300</td>\n",
              "      <td>2020-01-22</td>\n",
              "      <td>0</td>\n",
              "      <td>0</td>\n",
              "      <td>0</td>\n",
              "    </tr>\n",
              "    <tr>\n",
              "      <th>2</th>\n",
              "      <td></td>\n",
              "      <td>Algeria</td>\n",
              "      <td>28.033900</td>\n",
              "      <td>1.659600</td>\n",
              "      <td>2020-01-22</td>\n",
              "      <td>0</td>\n",
              "      <td>0</td>\n",
              "      <td>0</td>\n",
              "    </tr>\n",
              "    <tr>\n",
              "      <th>3</th>\n",
              "      <td></td>\n",
              "      <td>Andorra</td>\n",
              "      <td>42.506300</td>\n",
              "      <td>1.521800</td>\n",
              "      <td>2020-01-22</td>\n",
              "      <td>0</td>\n",
              "      <td>0</td>\n",
              "      <td>0</td>\n",
              "    </tr>\n",
              "    <tr>\n",
              "      <th>4</th>\n",
              "      <td></td>\n",
              "      <td>Angola</td>\n",
              "      <td>-11.202700</td>\n",
              "      <td>17.873900</td>\n",
              "      <td>2020-01-22</td>\n",
              "      <td>0</td>\n",
              "      <td>0</td>\n",
              "      <td>0</td>\n",
              "    </tr>\n",
              "    <tr>\n",
              "      <th>...</th>\n",
              "      <td>...</td>\n",
              "      <td>...</td>\n",
              "      <td>...</td>\n",
              "      <td>...</td>\n",
              "      <td>...</td>\n",
              "      <td>...</td>\n",
              "      <td>...</td>\n",
              "      <td>...</td>\n",
              "    </tr>\n",
              "    <tr>\n",
              "      <th>32060</th>\n",
              "      <td></td>\n",
              "      <td>Sao Tome and Principe</td>\n",
              "      <td>0.186360</td>\n",
              "      <td>6.613081</td>\n",
              "      <td>2020-05-21</td>\n",
              "      <td>251</td>\n",
              "      <td>8</td>\n",
              "      <td>4</td>\n",
              "    </tr>\n",
              "    <tr>\n",
              "      <th>32061</th>\n",
              "      <td></td>\n",
              "      <td>Yemen</td>\n",
              "      <td>15.552727</td>\n",
              "      <td>48.516388</td>\n",
              "      <td>2020-05-21</td>\n",
              "      <td>197</td>\n",
              "      <td>33</td>\n",
              "      <td>0</td>\n",
              "    </tr>\n",
              "    <tr>\n",
              "      <th>32062</th>\n",
              "      <td></td>\n",
              "      <td>Comoros</td>\n",
              "      <td>-11.645500</td>\n",
              "      <td>43.333300</td>\n",
              "      <td>2020-05-21</td>\n",
              "      <td>34</td>\n",
              "      <td>1</td>\n",
              "      <td>8</td>\n",
              "    </tr>\n",
              "    <tr>\n",
              "      <th>32063</th>\n",
              "      <td></td>\n",
              "      <td>Tajikistan</td>\n",
              "      <td>38.861034</td>\n",
              "      <td>71.276093</td>\n",
              "      <td>2020-05-21</td>\n",
              "      <td>2350</td>\n",
              "      <td>44</td>\n",
              "      <td>0</td>\n",
              "    </tr>\n",
              "    <tr>\n",
              "      <th>32064</th>\n",
              "      <td></td>\n",
              "      <td>Lesotho</td>\n",
              "      <td>-29.609988</td>\n",
              "      <td>28.233608</td>\n",
              "      <td>2020-05-21</td>\n",
              "      <td>1</td>\n",
              "      <td>0</td>\n",
              "      <td>0</td>\n",
              "    </tr>\n",
              "  </tbody>\n",
              "</table>\n",
              "<p>32065 rows × 8 columns</p>\n",
              "</div>"
            ],
            "text/plain": [
              "      State                Country        Lat  ...  Confirmed Deaths  Recovered\n",
              "0                      Afghanistan  33.000000  ...          0      0          0\n",
              "1                          Albania  41.153300  ...          0      0          0\n",
              "2                          Algeria  28.033900  ...          0      0          0\n",
              "3                          Andorra  42.506300  ...          0      0          0\n",
              "4                           Angola -11.202700  ...          0      0          0\n",
              "...     ...                    ...        ...  ...        ...    ...        ...\n",
              "32060        Sao Tome and Principe   0.186360  ...        251      8          4\n",
              "32061                        Yemen  15.552727  ...        197     33          0\n",
              "32062                      Comoros -11.645500  ...         34      1          8\n",
              "32063                   Tajikistan  38.861034  ...       2350     44          0\n",
              "32064                      Lesotho -29.609988  ...          1      0          0\n",
              "\n",
              "[32065 rows x 8 columns]"
            ]
          },
          "metadata": {
            "tags": []
          },
          "execution_count": 5
        }
      ]
    },
    {
      "cell_type": "code",
      "metadata": {
        "id": "lPIKZAbMas7H",
        "colab_type": "code",
        "colab": {
          "base_uri": "https://localhost:8080/",
          "height": 700
        },
        "outputId": "fcd26cc1-2e6d-4620-c684-044bc4a66125"
      },
      "source": [
        "q=dataframe.query('Country==\"Germany\"')\n",
        "df=q.fillna('').groupby(['Date'])['Confirmed'].max()\n",
        "df=pd.DataFrame(df)\n",
        "\n",
        "\n",
        "df.head(20)"
      ],
      "execution_count": 6,
      "outputs": [
        {
          "output_type": "execute_result",
          "data": {
            "text/html": [
              "<div>\n",
              "<style scoped>\n",
              "    .dataframe tbody tr th:only-of-type {\n",
              "        vertical-align: middle;\n",
              "    }\n",
              "\n",
              "    .dataframe tbody tr th {\n",
              "        vertical-align: top;\n",
              "    }\n",
              "\n",
              "    .dataframe thead th {\n",
              "        text-align: right;\n",
              "    }\n",
              "</style>\n",
              "<table border=\"1\" class=\"dataframe\">\n",
              "  <thead>\n",
              "    <tr style=\"text-align: right;\">\n",
              "      <th></th>\n",
              "      <th>Confirmed</th>\n",
              "    </tr>\n",
              "    <tr>\n",
              "      <th>Date</th>\n",
              "      <th></th>\n",
              "    </tr>\n",
              "  </thead>\n",
              "  <tbody>\n",
              "    <tr>\n",
              "      <th>2020-01-22</th>\n",
              "      <td>0</td>\n",
              "    </tr>\n",
              "    <tr>\n",
              "      <th>2020-01-23</th>\n",
              "      <td>0</td>\n",
              "    </tr>\n",
              "    <tr>\n",
              "      <th>2020-01-24</th>\n",
              "      <td>0</td>\n",
              "    </tr>\n",
              "    <tr>\n",
              "      <th>2020-01-25</th>\n",
              "      <td>0</td>\n",
              "    </tr>\n",
              "    <tr>\n",
              "      <th>2020-01-26</th>\n",
              "      <td>0</td>\n",
              "    </tr>\n",
              "    <tr>\n",
              "      <th>2020-01-27</th>\n",
              "      <td>1</td>\n",
              "    </tr>\n",
              "    <tr>\n",
              "      <th>2020-01-28</th>\n",
              "      <td>4</td>\n",
              "    </tr>\n",
              "    <tr>\n",
              "      <th>2020-01-29</th>\n",
              "      <td>4</td>\n",
              "    </tr>\n",
              "    <tr>\n",
              "      <th>2020-01-30</th>\n",
              "      <td>4</td>\n",
              "    </tr>\n",
              "    <tr>\n",
              "      <th>2020-01-31</th>\n",
              "      <td>5</td>\n",
              "    </tr>\n",
              "    <tr>\n",
              "      <th>2020-02-01</th>\n",
              "      <td>8</td>\n",
              "    </tr>\n",
              "    <tr>\n",
              "      <th>2020-02-02</th>\n",
              "      <td>10</td>\n",
              "    </tr>\n",
              "    <tr>\n",
              "      <th>2020-02-03</th>\n",
              "      <td>12</td>\n",
              "    </tr>\n",
              "    <tr>\n",
              "      <th>2020-02-04</th>\n",
              "      <td>12</td>\n",
              "    </tr>\n",
              "    <tr>\n",
              "      <th>2020-02-05</th>\n",
              "      <td>12</td>\n",
              "    </tr>\n",
              "    <tr>\n",
              "      <th>2020-02-06</th>\n",
              "      <td>12</td>\n",
              "    </tr>\n",
              "    <tr>\n",
              "      <th>2020-02-07</th>\n",
              "      <td>13</td>\n",
              "    </tr>\n",
              "    <tr>\n",
              "      <th>2020-02-08</th>\n",
              "      <td>13</td>\n",
              "    </tr>\n",
              "    <tr>\n",
              "      <th>2020-02-09</th>\n",
              "      <td>14</td>\n",
              "    </tr>\n",
              "    <tr>\n",
              "      <th>2020-02-10</th>\n",
              "      <td>14</td>\n",
              "    </tr>\n",
              "  </tbody>\n",
              "</table>\n",
              "</div>"
            ],
            "text/plain": [
              "            Confirmed\n",
              "Date                 \n",
              "2020-01-22          0\n",
              "2020-01-23          0\n",
              "2020-01-24          0\n",
              "2020-01-25          0\n",
              "2020-01-26          0\n",
              "2020-01-27          1\n",
              "2020-01-28          4\n",
              "2020-01-29          4\n",
              "2020-01-30          4\n",
              "2020-01-31          5\n",
              "2020-02-01          8\n",
              "2020-02-02         10\n",
              "2020-02-03         12\n",
              "2020-02-04         12\n",
              "2020-02-05         12\n",
              "2020-02-06         12\n",
              "2020-02-07         13\n",
              "2020-02-08         13\n",
              "2020-02-09         14\n",
              "2020-02-10         14"
            ]
          },
          "metadata": {
            "tags": []
          },
          "execution_count": 6
        }
      ]
    },
    {
      "cell_type": "code",
      "metadata": {
        "id": "IsLeSJrL5Nj1",
        "colab_type": "code",
        "colab": {}
      },
      "source": [
        "train = df[0:97]\n",
        "test = df[97:]\n",
        "ploting = df[45:97]"
      ],
      "execution_count": 7,
      "outputs": []
    },
    {
      "cell_type": "code",
      "metadata": {
        "id": "Lw6j17j0as7Y",
        "colab_type": "code",
        "colab": {}
      },
      "source": [
        "\n",
        "column_name = df.columns[0]\n"
      ],
      "execution_count": 8,
      "outputs": []
    },
    {
      "cell_type": "code",
      "metadata": {
        "id": "SLLB2ztAas7e",
        "colab_type": "code",
        "colab": {
          "base_uri": "https://localhost:8080/",
          "height": 281
        },
        "outputId": "d12ae139-f053-4936-c423-fc651ba25843"
      },
      "source": [
        "plt.figure(figsize=(10,4))\n",
        "plt.plot(df, label=column_name)\n",
        "plt.legend(loc=\"best\")\n",
        "plt.title(\"%s cases over time\" %df.columns[0])\n",
        "plt.grid()\n",
        "plt.show()"
      ],
      "execution_count": 9,
      "outputs": [
        {
          "output_type": "display_data",
          "data": {
            "image/png": "[encoded data removed]",
            "text/plain": [
              "<Figure size 720x288 with 1 Axes>"
            ]
          },
          "metadata": {
            "tags": [],
            "needs_background": "light"
          }
        }
      ]
    },
    {
      "cell_type": "code",
      "metadata": {
        "id": "pkk4o_4has7l",
        "colab_type": "code",
        "colab": {
          "base_uri": "https://localhost:8080/",
          "height": 235
        },
        "outputId": "dbe05f4e-7491-4308-eeb9-8284df0e5f8f"
      },
      "source": [
        "df.tail()"
      ],
      "execution_count": 10,
      "outputs": [
        {
          "output_type": "execute_result",
          "data": {
            "text/html": [
              "<div>\n",
              "<style scoped>\n",
              "    .dataframe tbody tr th:only-of-type {\n",
              "        vertical-align: middle;\n",
              "    }\n",
              "\n",
              "    .dataframe tbody tr th {\n",
              "        vertical-align: top;\n",
              "    }\n",
              "\n",
              "    .dataframe thead th {\n",
              "        text-align: right;\n",
              "    }\n",
              "</style>\n",
              "<table border=\"1\" class=\"dataframe\">\n",
              "  <thead>\n",
              "    <tr style=\"text-align: right;\">\n",
              "      <th></th>\n",
              "      <th>Confirmed</th>\n",
              "    </tr>\n",
              "    <tr>\n",
              "      <th>Date</th>\n",
              "      <th></th>\n",
              "    </tr>\n",
              "  </thead>\n",
              "  <tbody>\n",
              "    <tr>\n",
              "      <th>2020-05-17</th>\n",
              "      <td>176369</td>\n",
              "    </tr>\n",
              "    <tr>\n",
              "      <th>2020-05-18</th>\n",
              "      <td>176551</td>\n",
              "    </tr>\n",
              "    <tr>\n",
              "      <th>2020-05-19</th>\n",
              "      <td>177778</td>\n",
              "    </tr>\n",
              "    <tr>\n",
              "      <th>2020-05-20</th>\n",
              "      <td>178473</td>\n",
              "    </tr>\n",
              "    <tr>\n",
              "      <th>2020-05-21</th>\n",
              "      <td>179021</td>\n",
              "    </tr>\n",
              "  </tbody>\n",
              "</table>\n",
              "</div>"
            ],
            "text/plain": [
              "            Confirmed\n",
              "Date                 \n",
              "2020-05-17     176369\n",
              "2020-05-18     176551\n",
              "2020-05-19     177778\n",
              "2020-05-20     178473\n",
              "2020-05-21     179021"
            ]
          },
          "metadata": {
            "tags": []
          },
          "execution_count": 10
        }
      ]
    },
    {
      "cell_type": "code",
      "metadata": {
        "id": "0-_6Tfwzas72",
        "colab_type": "code",
        "colab": {}
      },
      "source": [
        "def fit_model(series, config):\n",
        "    order, sorder, trend = config\n",
        "    model = SARIMAX(series[column_name], order=order, seasonal_order=sorder, trend=trend, enforce_stationarity=False, enforce_invertibility=False)\n",
        "    result = model.fit()\n",
        "    return result"
      ],
      "execution_count": 11,
      "outputs": []
    },
    {
      "cell_type": "code",
      "metadata": {
        "id": "an9yBKRQas78",
        "colab_type": "code",
        "colab": {}
      },
      "source": [
        "# root mean squared error\n",
        "def measure_rmse(actual, predicted):\n",
        "    return sqrt(mean_squared_error(actual, predicted))"
      ],
      "execution_count": 12,
      "outputs": []
    },
    {
      "cell_type": "code",
      "metadata": {
        "id": "8fKLZ4amas8W",
        "colab_type": "code",
        "colab": {
          "base_uri": "https://localhost:8080/",
          "height": 442
        },
        "outputId": "a737388b-0aea-48e8-e3f5-3c0e4ea0f185"
      },
      "source": [
        "#best = [(1,1,1),(0,1,1,5), 'n']\n",
        "bests=[(1, 2, 1), (1, 1, 1, 5), 'n']\n",
        "result = fit_model(train, bests)\n",
        "#result=get_forecast(steps=500)\n",
        "#predictions1 = result.predic0(start=80, end=121)\n",
        "#yhat = fit_model.forecast()[0]\n",
        "#result.plot_predict(start=int(len(train) * 0.6), end=int(len(train) * 2.0))\n",
        "prediction=result.forecast(steps=len(test))\n",
        "prediction"
      ],
      "execution_count": 13,
      "outputs": [
        {
          "output_type": "execute_result",
          "data": {
            "text/plain": [
              "2020-04-28    159585.519240\n",
              "2020-04-29    160381.618046\n",
              "2020-04-30    161262.405062\n",
              "2020-05-01    162041.056259\n",
              "2020-05-02    163263.897346\n",
              "2020-05-03    164192.057137\n",
              "2020-05-04    165028.031036\n",
              "2020-05-05    165918.123639\n",
              "2020-05-06    166688.473770\n",
              "2020-05-07    167903.154349\n",
              "2020-05-08    168815.389606\n",
              "2020-05-09    169631.449166\n",
              "2020-05-10    170499.520429\n",
              "2020-05-11    171246.701932\n",
              "2020-05-12    172437.744718\n",
              "2020-05-13    173325.971833\n",
              "2020-05-14    174117.827447\n",
              "2020-05-15    174961.590342\n",
              "2020-05-16    175684.407262\n",
              "2020-05-17    176851.057562\n",
              "2020-05-18    177714.875437\n",
              "2020-05-19    178482.312876\n",
              "2020-05-20    179301.652818\n",
              "2020-05-21    180000.044221\n",
              "Freq: D, dtype: float64"
            ]
          },
          "metadata": {
            "tags": []
          },
          "execution_count": 13
        }
      ]
    },
    {
      "cell_type": "code",
      "metadata": {
        "id": "CHHSqI0Xas8c",
        "colab_type": "code",
        "colab": {
          "base_uri": "https://localhost:8080/",
          "height": 298
        },
        "outputId": "2b94cfc3-362c-46e7-ed38-0a7d63b2e49b"
      },
      "source": [
        "#result.plot_predict(start=int(len(test) * 0.6), end=int(len(test) * 2.0))\n",
        "plt.figure(figsize=(6,4))\n",
        "plt.plot(test, label=\"original\" ,color='black')\n",
        "plt.plot(prediction, color=\"red\", label=\"predictions\")\n",
        "plt.grid()\n",
        "error = measure_rmse(test, prediction)\n",
        "plt.xlabel('Date', fontsize=12)\n",
        "plt.ylabel('Number Of Confirmed cases', fontsize=12)\n",
        "plt.legend(loc='best')\n",
        "plt.title(\"Sarima prediction for (%s) with root mean squared error %s\" % (column_name, error))\n",
        "plt.show()"
      ],
      "execution_count": 14,
      "outputs": [
        {
          "output_type": "display_data",
          "data": {
            "image/png": "[encoded data removed]",
            "text/plain": [
              "<Figure size 432x288 with 1 Axes>"
            ]
          },
          "metadata": {
            "tags": [],
            "needs_background": "light"
          }
        }
      ]
    },
    {
      "cell_type": "code",
      "metadata": {
        "id": "cQvO_lRtgoJB",
        "colab_type": "code",
        "colab": {}
      },
      "source": [
        "# Get forecast 90 steps ahead in future\n",
        "forecastt = result.get_forecast(steps=90)\n",
        "forecastt\n",
        "\n",
        "# Get confidence intervals of forecasts\n",
        "forecast_conf = forecastt.conf_int()\n"
      ],
      "execution_count": 18,
      "outputs": []
    },
    {
      "cell_type": "code",
      "metadata": {
        "id": "uRRzvlHcgvrC",
        "colab_type": "code",
        "colab": {
          "base_uri": "https://localhost:8080/",
          "height": 404
        },
        "outputId": "7c899dcf-1d69-4bf9-8414-d93f3914b564"
      },
      "source": [
        "ax = ploting.plot(label='observed', figsize=(8, 6))\n",
        "forecastt.predicted_mean.plot(ax=ax, label='Forecast', color='red')\n",
        "\n",
        "ax.set_xlabel('Date')\n",
        "ax.set_ylabel('Number of Cases')\n",
        "ax.fill_between(forecast_conf.index,\n",
        "                forecast_conf.iloc[:, 1],\n",
        "                       forecast_conf.iloc[:, 0], color='k', alpha=.25)\n",
        "\n",
        "plt.grid(color='white')\n",
        "bg_color = 'lightgrey'\n",
        "ax.patch.set_facecolor(bg_color)\n",
        "axes = plt.gca()\n",
        "axes.set_ylim([0,600000])       \n",
        "plt.legend()\n",
        "plt.show()"
      ],
      "execution_count": 17,
      "outputs": [
        {
          "output_type": "display_data",
          "data": {
            "image/png": "[encoded data removed]",
            "text/plain": [
              "<Figure size 576x432 with 1 Axes>"
            ]
          },
          "metadata": {
            "tags": [],
            "needs_background": "light"
          }
        }
      ]
    },
    {
      "cell_type": "code",
      "metadata": {
        "id": "Uh0-Tf-KnXZv",
        "colab_type": "code",
        "colab": {}
      },
      "source": [
        ""
      ],
      "execution_count": null,
      "outputs": []
    },
    {
      "cell_type": "markdown",
      "metadata": {
        "id": "fuflwvO96F5N",
        "colab_type": "text"
      },
      "source": [
        " **Recovered**  **Cases**"
      ]
    },
    {
      "cell_type": "code",
      "metadata": {
        "id": "kIpyT1Rzas8h",
        "colab_type": "code",
        "colab": {}
      },
      "source": [
        "qc=dataframe.query('Country==\"Germany\"')\n",
        "dfr=q.fillna('').groupby(['Date'])['Recovered'].max()\n",
        "dfr=pd.DataFrame(dfr)"
      ],
      "execution_count": 19,
      "outputs": []
    },
    {
      "cell_type": "code",
      "metadata": {
        "id": "do3nYtrKzN2Q",
        "colab_type": "code",
        "colab": {
          "base_uri": "https://localhost:8080/",
          "height": 450
        },
        "outputId": "2ec2ea4b-2767-4246-ba9e-a02d3fb4e205"
      },
      "source": [
        "dfr"
      ],
      "execution_count": 20,
      "outputs": [
        {
          "output_type": "execute_result",
          "data": {
            "text/html": [
              "<div>\n",
              "<style scoped>\n",
              "    .dataframe tbody tr th:only-of-type {\n",
              "        vertical-align: middle;\n",
              "    }\n",
              "\n",
              "    .dataframe tbody tr th {\n",
              "        vertical-align: top;\n",
              "    }\n",
              "\n",
              "    .dataframe thead th {\n",
              "        text-align: right;\n",
              "    }\n",
              "</style>\n",
              "<table border=\"1\" class=\"dataframe\">\n",
              "  <thead>\n",
              "    <tr style=\"text-align: right;\">\n",
              "      <th></th>\n",
              "      <th>Recovered</th>\n",
              "    </tr>\n",
              "    <tr>\n",
              "      <th>Date</th>\n",
              "      <th></th>\n",
              "    </tr>\n",
              "  </thead>\n",
              "  <tbody>\n",
              "    <tr>\n",
              "      <th>2020-01-22</th>\n",
              "      <td>0</td>\n",
              "    </tr>\n",
              "    <tr>\n",
              "      <th>2020-01-23</th>\n",
              "      <td>0</td>\n",
              "    </tr>\n",
              "    <tr>\n",
              "      <th>2020-01-24</th>\n",
              "      <td>0</td>\n",
              "    </tr>\n",
              "    <tr>\n",
              "      <th>2020-01-25</th>\n",
              "      <td>0</td>\n",
              "    </tr>\n",
              "    <tr>\n",
              "      <th>2020-01-26</th>\n",
              "      <td>0</td>\n",
              "    </tr>\n",
              "    <tr>\n",
              "      <th>...</th>\n",
              "      <td>...</td>\n",
              "    </tr>\n",
              "    <tr>\n",
              "      <th>2020-05-17</th>\n",
              "      <td>154011</td>\n",
              "    </tr>\n",
              "    <tr>\n",
              "      <th>2020-05-18</th>\n",
              "      <td>155041</td>\n",
              "    </tr>\n",
              "    <tr>\n",
              "      <th>2020-05-19</th>\n",
              "      <td>155681</td>\n",
              "    </tr>\n",
              "    <tr>\n",
              "      <th>2020-05-20</th>\n",
              "      <td>156966</td>\n",
              "    </tr>\n",
              "    <tr>\n",
              "      <th>2020-05-21</th>\n",
              "      <td>158087</td>\n",
              "    </tr>\n",
              "  </tbody>\n",
              "</table>\n",
              "<p>121 rows × 1 columns</p>\n",
              "</div>"
            ],
            "text/plain": [
              "            Recovered\n",
              "Date                 \n",
              "2020-01-22          0\n",
              "2020-01-23          0\n",
              "2020-01-24          0\n",
              "2020-01-25          0\n",
              "2020-01-26          0\n",
              "...               ...\n",
              "2020-05-17     154011\n",
              "2020-05-18     155041\n",
              "2020-05-19     155681\n",
              "2020-05-20     156966\n",
              "2020-05-21     158087\n",
              "\n",
              "[121 rows x 1 columns]"
            ]
          },
          "metadata": {
            "tags": []
          },
          "execution_count": 20
        }
      ]
    },
    {
      "cell_type": "code",
      "metadata": {
        "id": "zw3VoN05zYNL",
        "colab_type": "code",
        "colab": {}
      },
      "source": [
        "column_name = dfr.columns[0]\n"
      ],
      "execution_count": 21,
      "outputs": []
    },
    {
      "cell_type": "code",
      "metadata": {
        "id": "hLuzzRjiyf-k",
        "colab_type": "code",
        "colab": {}
      },
      "source": [
        ""
      ],
      "execution_count": null,
      "outputs": []
    },
    {
      "cell_type": "code",
      "metadata": {
        "id": "euwv3fIYzoRY",
        "colab_type": "code",
        "colab": {
          "base_uri": "https://localhost:8080/",
          "height": 281
        },
        "outputId": "961f0acd-03d9-4fd5-b552-ed63c8ce702f"
      },
      "source": [
        "plt.figure(figsize=(10,4))\n",
        "plt.plot(dfr, label=column_name)\n",
        "plt.legend(loc=\"best\")\n",
        "plt.title(\"%s Cases over time\" %dfr.columns[0])\n",
        "plt.grid()\n",
        "plt.show()"
      ],
      "execution_count": 22,
      "outputs": [
        {
          "output_type": "display_data",
          "data": {
            "image/png": "[encoded data removed]",
            "text/plain": [
              "<Figure size 720x288 with 1 Axes>"
            ]
          },
          "metadata": {
            "tags": [],
            "needs_background": "light"
          }
        }
      ]
    },
    {
      "cell_type": "code",
      "metadata": {
        "id": "iEoZAkG60ChE",
        "colab_type": "code",
        "colab": {}
      },
      "source": [
        "Train = dfr[0:97]\n",
        "Test = dfr[97:]\n",
        "ploting1 = dfr[45:97]"
      ],
      "execution_count": 23,
      "outputs": []
    },
    {
      "cell_type": "code",
      "metadata": {
        "id": "_Vpvzuyb1FSz",
        "colab_type": "code",
        "colab": {
          "base_uri": "https://localhost:8080/",
          "height": 442
        },
        "outputId": "28670378-e5f6-497c-b8ac-78292e86428f"
      },
      "source": [
        "best=[(2, 1, 2), (2, 1, 2, 5), 'n']\n",
        "results = fit_model(Train, best)\n",
        "Prediction=results.forecast(steps=len(Test))\n",
        "Prediction"
      ],
      "execution_count": 24,
      "outputs": [
        {
          "output_type": "execute_result",
          "data": {
            "text/plain": [
              "2020-04-28    116990.492168\n",
              "2020-04-29    118665.059197\n",
              "2020-04-30    120931.934005\n",
              "2020-05-01    122343.245176\n",
              "2020-05-02    126213.946061\n",
              "2020-05-03    128779.544430\n",
              "2020-05-04    130827.602817\n",
              "2020-05-05    132189.342390\n",
              "2020-05-06    133971.978215\n",
              "2020-05-07    136223.328654\n",
              "2020-05-08    138601.544314\n",
              "2020-05-09    142043.651973\n",
              "2020-05-10    142527.002814\n",
              "2020-05-11    143871.817939\n",
              "2020-05-12    146620.487239\n",
              "2020-05-13    148872.628305\n",
              "2020-05-14    150596.809488\n",
              "2020-05-15    152310.303658\n",
              "2020-05-16    153883.877048\n",
              "2020-05-17    157044.732446\n",
              "2020-05-18    159643.716413\n",
              "2020-05-19    162504.237769\n",
              "2020-05-20    163703.060901\n",
              "2020-05-21    165546.266228\n",
              "Freq: D, dtype: float64"
            ]
          },
          "metadata": {
            "tags": []
          },
          "execution_count": 24
        }
      ]
    },
    {
      "cell_type": "code",
      "metadata": {
        "id": "0XxNm07h0qIU",
        "colab_type": "code",
        "colab": {
          "base_uri": "https://localhost:8080/",
          "height": 824
        },
        "outputId": "a02ab782-9045-45a1-b938-25fd2fb49de1"
      },
      "source": [
        "Test"
      ],
      "execution_count": 25,
      "outputs": [
        {
          "output_type": "execute_result",
          "data": {
            "text/html": [
              "<div>\n",
              "<style scoped>\n",
              "    .dataframe tbody tr th:only-of-type {\n",
              "        vertical-align: middle;\n",
              "    }\n",
              "\n",
              "    .dataframe tbody tr th {\n",
              "        vertical-align: top;\n",
              "    }\n",
              "\n",
              "    .dataframe thead th {\n",
              "        text-align: right;\n",
              "    }\n",
              "</style>\n",
              "<table border=\"1\" class=\"dataframe\">\n",
              "  <thead>\n",
              "    <tr style=\"text-align: right;\">\n",
              "      <th></th>\n",
              "      <th>Recovered</th>\n",
              "    </tr>\n",
              "    <tr>\n",
              "      <th>Date</th>\n",
              "      <th></th>\n",
              "    </tr>\n",
              "  </thead>\n",
              "  <tbody>\n",
              "    <tr>\n",
              "      <th>2020-04-28</th>\n",
              "      <td>117400</td>\n",
              "    </tr>\n",
              "    <tr>\n",
              "      <th>2020-04-29</th>\n",
              "      <td>120400</td>\n",
              "    </tr>\n",
              "    <tr>\n",
              "      <th>2020-04-30</th>\n",
              "      <td>123500</td>\n",
              "    </tr>\n",
              "    <tr>\n",
              "      <th>2020-05-01</th>\n",
              "      <td>126900</td>\n",
              "    </tr>\n",
              "    <tr>\n",
              "      <th>2020-05-02</th>\n",
              "      <td>129000</td>\n",
              "    </tr>\n",
              "    <tr>\n",
              "      <th>2020-05-03</th>\n",
              "      <td>130600</td>\n",
              "    </tr>\n",
              "    <tr>\n",
              "      <th>2020-05-04</th>\n",
              "      <td>132700</td>\n",
              "    </tr>\n",
              "    <tr>\n",
              "      <th>2020-05-05</th>\n",
              "      <td>135100</td>\n",
              "    </tr>\n",
              "    <tr>\n",
              "      <th>2020-05-06</th>\n",
              "      <td>139900</td>\n",
              "    </tr>\n",
              "    <tr>\n",
              "      <th>2020-05-07</th>\n",
              "      <td>141700</td>\n",
              "    </tr>\n",
              "    <tr>\n",
              "      <th>2020-05-08</th>\n",
              "      <td>141700</td>\n",
              "    </tr>\n",
              "    <tr>\n",
              "      <th>2020-05-09</th>\n",
              "      <td>143300</td>\n",
              "    </tr>\n",
              "    <tr>\n",
              "      <th>2020-05-10</th>\n",
              "      <td>144400</td>\n",
              "    </tr>\n",
              "    <tr>\n",
              "      <th>2020-05-11</th>\n",
              "      <td>145617</td>\n",
              "    </tr>\n",
              "    <tr>\n",
              "      <th>2020-05-12</th>\n",
              "      <td>147200</td>\n",
              "    </tr>\n",
              "    <tr>\n",
              "      <th>2020-05-13</th>\n",
              "      <td>148700</td>\n",
              "    </tr>\n",
              "    <tr>\n",
              "      <th>2020-05-14</th>\n",
              "      <td>150300</td>\n",
              "    </tr>\n",
              "    <tr>\n",
              "      <th>2020-05-15</th>\n",
              "      <td>151597</td>\n",
              "    </tr>\n",
              "    <tr>\n",
              "      <th>2020-05-16</th>\n",
              "      <td>152600</td>\n",
              "    </tr>\n",
              "    <tr>\n",
              "      <th>2020-05-17</th>\n",
              "      <td>154011</td>\n",
              "    </tr>\n",
              "    <tr>\n",
              "      <th>2020-05-18</th>\n",
              "      <td>155041</td>\n",
              "    </tr>\n",
              "    <tr>\n",
              "      <th>2020-05-19</th>\n",
              "      <td>155681</td>\n",
              "    </tr>\n",
              "    <tr>\n",
              "      <th>2020-05-20</th>\n",
              "      <td>156966</td>\n",
              "    </tr>\n",
              "    <tr>\n",
              "      <th>2020-05-21</th>\n",
              "      <td>158087</td>\n",
              "    </tr>\n",
              "  </tbody>\n",
              "</table>\n",
              "</div>"
            ],
            "text/plain": [
              "            Recovered\n",
              "Date                 \n",
              "2020-04-28     117400\n",
              "2020-04-29     120400\n",
              "2020-04-30     123500\n",
              "2020-05-01     126900\n",
              "2020-05-02     129000\n",
              "2020-05-03     130600\n",
              "2020-05-04     132700\n",
              "2020-05-05     135100\n",
              "2020-05-06     139900\n",
              "2020-05-07     141700\n",
              "2020-05-08     141700\n",
              "2020-05-09     143300\n",
              "2020-05-10     144400\n",
              "2020-05-11     145617\n",
              "2020-05-12     147200\n",
              "2020-05-13     148700\n",
              "2020-05-14     150300\n",
              "2020-05-15     151597\n",
              "2020-05-16     152600\n",
              "2020-05-17     154011\n",
              "2020-05-18     155041\n",
              "2020-05-19     155681\n",
              "2020-05-20     156966\n",
              "2020-05-21     158087"
            ]
          },
          "metadata": {
            "tags": []
          },
          "execution_count": 25
        }
      ]
    },
    {
      "cell_type": "code",
      "metadata": {
        "id": "_g7nUKRQ1ZD5",
        "colab_type": "code",
        "colab": {
          "base_uri": "https://localhost:8080/",
          "height": 298
        },
        "outputId": "6f08207f-f433-4be3-f31e-84df337dcaa0"
      },
      "source": [
        "plt.figure(figsize=(6,4))\n",
        "plt.plot(Test, label=\"original\" ,color='black')\n",
        "plt.plot(Prediction, color=\"red\", label=\"predictions\")\n",
        "plt.grid()\n",
        "error = measure_rmse(Test, Prediction)\n",
        "plt.xlabel('Date', fontsize=12)\n",
        "plt.ylabel('Number Of Confimed cases', fontsize=12)\n",
        "plt.legend(loc='best')\n",
        "plt.title(\"Sarima prediction for (%s) with root mean squared error %s\" % (column_name, error))\n",
        "plt.show()"
      ],
      "execution_count": 26,
      "outputs": [
        {
          "output_type": "display_data",
          "data": {
            "image/png": "[encoded data removed]",
            "text/plain": [
              "<Figure size 432x288 with 1 Axes>"
            ]
          },
          "metadata": {
            "tags": [],
            "needs_background": "light"
          }
        }
      ]
    },
    {
      "cell_type": "code",
      "metadata": {
        "id": "K5FvCUHRuuw9",
        "colab_type": "code",
        "colab": {}
      },
      "source": [
        "# Get forecast 90 steps ahead in future\n",
        "forecastt = results.get_forecast(steps=90)\n",
        "forecastt\n",
        "\n",
        "# Get confidence intervals of forecasts\n",
        "forecast_conf = forecastt.conf_int()\n"
      ],
      "execution_count": 27,
      "outputs": []
    },
    {
      "cell_type": "code",
      "metadata": {
        "id": "6Ke7-ANyvZFf",
        "colab_type": "code",
        "colab": {
          "base_uri": "https://localhost:8080/",
          "height": 404
        },
        "outputId": "9c528526-b885-4f91-891e-ee1b66873fd4"
      },
      "source": [
        "ax = ploting1.plot(label='observed', figsize=(8, 6))\n",
        "forecastt.predicted_mean.plot(ax=ax, label='Forecast', color='red')\n",
        "\n",
        "ax.set_xlabel('Date')\n",
        "ax.set_ylabel('Number of Cases')\n",
        "ax.fill_between(forecast_conf.index,\n",
        "                forecast_conf.iloc[:, 1],\n",
        "                       forecast_conf.iloc[:, 0], color='k', alpha=.25)\n",
        "\n",
        "plt.grid(color='white')\n",
        "bg_color = 'lightgrey'\n",
        "ax.patch.set_facecolor(bg_color)\n",
        "axes = plt.gca()\n",
        "#axes.set_xlim([xmin,xmax])\n",
        "axes.set_ylim([0,600000])       \n",
        "plt.legend()\n",
        "plt.show()"
      ],
      "execution_count": 28,
      "outputs": [
        {
          "output_type": "display_data",
          "data": {
            "image/png": "[encoded data removed]",
            "text/plain": [
              "<Figure size 576x432 with 1 Axes>"
            ]
          },
          "metadata": {
            "tags": [],
            "needs_background": "light"
          }
        }
      ]
    },
    {
      "cell_type": "code",
      "metadata": {
        "id": "LdK0fDqix3XB",
        "colab_type": "code",
        "colab": {}
      },
      "source": [
        "#"
      ],
      "execution_count": null,
      "outputs": []
    },
    {
      "cell_type": "code",
      "metadata": {
        "id": "MK0iA34Vx-xm",
        "colab_type": "code",
        "colab": {}
      },
      "source": [
        ""
      ],
      "execution_count": null,
      "outputs": []
    },
    {
      "cell_type": "code",
      "metadata": {
        "id": "ot6WCaop7Nnm",
        "colab_type": "code",
        "colab": {}
      },
      "source": [
        ""
      ],
      "execution_count": null,
      "outputs": []
    },
    {
      "cell_type": "markdown",
      "metadata": {
        "id": "DfZeXVLWx516",
        "colab_type": "text"
      },
      "source": [
        "***Deaths*** **Cases**\n"
      ]
    },
    {
      "cell_type": "code",
      "metadata": {
        "id": "qUvPjRkDx_mn",
        "colab_type": "code",
        "colab": {
          "base_uri": "https://localhost:8080/",
          "height": 450
        },
        "outputId": "03303c95-8fec-4356-c485-1261a444cbba"
      },
      "source": [
        "q=dataframe.query('Country==\"Germany\"')\n",
        "df=q.fillna('').groupby(['Date'])['Deaths'].max()\n",
        "dfd=pd.DataFrame(df)\n",
        "\n",
        "\n",
        "dfd"
      ],
      "execution_count": 29,
      "outputs": [
        {
          "output_type": "execute_result",
          "data": {
            "text/html": [
              "<div>\n",
              "<style scoped>\n",
              "    .dataframe tbody tr th:only-of-type {\n",
              "        vertical-align: middle;\n",
              "    }\n",
              "\n",
              "    .dataframe tbody tr th {\n",
              "        vertical-align: top;\n",
              "    }\n",
              "\n",
              "    .dataframe thead th {\n",
              "        text-align: right;\n",
              "    }\n",
              "</style>\n",
              "<table border=\"1\" class=\"dataframe\">\n",
              "  <thead>\n",
              "    <tr style=\"text-align: right;\">\n",
              "      <th></th>\n",
              "      <th>Deaths</th>\n",
              "    </tr>\n",
              "    <tr>\n",
              "      <th>Date</th>\n",
              "      <th></th>\n",
              "    </tr>\n",
              "  </thead>\n",
              "  <tbody>\n",
              "    <tr>\n",
              "      <th>2020-01-22</th>\n",
              "      <td>0</td>\n",
              "    </tr>\n",
              "    <tr>\n",
              "      <th>2020-01-23</th>\n",
              "      <td>0</td>\n",
              "    </tr>\n",
              "    <tr>\n",
              "      <th>2020-01-24</th>\n",
              "      <td>0</td>\n",
              "    </tr>\n",
              "    <tr>\n",
              "      <th>2020-01-25</th>\n",
              "      <td>0</td>\n",
              "    </tr>\n",
              "    <tr>\n",
              "      <th>2020-01-26</th>\n",
              "      <td>0</td>\n",
              "    </tr>\n",
              "    <tr>\n",
              "      <th>...</th>\n",
              "      <td>...</td>\n",
              "    </tr>\n",
              "    <tr>\n",
              "      <th>2020-05-17</th>\n",
              "      <td>7962</td>\n",
              "    </tr>\n",
              "    <tr>\n",
              "      <th>2020-05-18</th>\n",
              "      <td>8003</td>\n",
              "    </tr>\n",
              "    <tr>\n",
              "      <th>2020-05-19</th>\n",
              "      <td>8081</td>\n",
              "    </tr>\n",
              "    <tr>\n",
              "      <th>2020-05-20</th>\n",
              "      <td>8144</td>\n",
              "    </tr>\n",
              "    <tr>\n",
              "      <th>2020-05-21</th>\n",
              "      <td>8203</td>\n",
              "    </tr>\n",
              "  </tbody>\n",
              "</table>\n",
              "<p>121 rows × 1 columns</p>\n",
              "</div>"
            ],
            "text/plain": [
              "            Deaths\n",
              "Date              \n",
              "2020-01-22       0\n",
              "2020-01-23       0\n",
              "2020-01-24       0\n",
              "2020-01-25       0\n",
              "2020-01-26       0\n",
              "...            ...\n",
              "2020-05-17    7962\n",
              "2020-05-18    8003\n",
              "2020-05-19    8081\n",
              "2020-05-20    8144\n",
              "2020-05-21    8203\n",
              "\n",
              "[121 rows x 1 columns]"
            ]
          },
          "metadata": {
            "tags": []
          },
          "execution_count": 29
        }
      ]
    },
    {
      "cell_type": "code",
      "metadata": {
        "id": "Sy0xOj6-yjvO",
        "colab_type": "code",
        "colab": {}
      },
      "source": [
        "column_name = dfd.columns[0]\n"
      ],
      "execution_count": 31,
      "outputs": []
    },
    {
      "cell_type": "code",
      "metadata": {
        "id": "CgOmtWEKyu22",
        "colab_type": "code",
        "colab": {
          "base_uri": "https://localhost:8080/",
          "height": 281
        },
        "outputId": "725daa8f-62e0-4f3d-b0a6-9e904f7d9dce"
      },
      "source": [
        "plt.figure(figsize=(10,4))\n",
        "plt.plot(dfd, label=column_name)\n",
        "plt.legend(loc=\"best\")\n",
        "plt.title(\"%s Cases over time\" %dfd.columns[0])\n",
        "plt.grid()\n",
        "plt.show()"
      ],
      "execution_count": 32,
      "outputs": [
        {
          "output_type": "display_data",
          "data": {
            "image/png": "[encoded data removed]",
            "text/plain": [
              "<Figure size 720x288 with 1 Axes>"
            ]
          },
          "metadata": {
            "tags": [],
            "needs_background": "light"
          }
        }
      ]
    },
    {
      "cell_type": "code",
      "metadata": {
        "id": "SpVHVnmdy_Tq",
        "colab_type": "code",
        "colab": {}
      },
      "source": [
        "Traind = dfd[0:97]\n",
        "Testd = dfd[97:]\n",
        "ploting2 = dfd[45:97]"
      ],
      "execution_count": 33,
      "outputs": []
    },
    {
      "cell_type": "code",
      "metadata": {
        "id": "aYjwagajzsfg",
        "colab_type": "code",
        "colab": {
          "base_uri": "https://localhost:8080/",
          "height": 442
        },
        "outputId": "b230bc69-8a51-4afb-99c9-762cfeae6130"
      },
      "source": [
        "best_combination=[(2, 2, 2), (2, 0, 2, 7), 'n']\n",
        "resultd = fit_model(Traind, best_combination)\n",
        "Prediction1=resultd.forecast(steps=len(Testd))\n",
        "Prediction1"
      ],
      "execution_count": 43,
      "outputs": [
        {
          "output_type": "execute_result",
          "data": {
            "text/plain": [
              "2020-04-28    6293.425767\n",
              "2020-04-29    6420.365491\n",
              "2020-04-30    6613.307082\n",
              "2020-05-01    6750.261065\n",
              "2020-05-02    6858.938215\n",
              "2020-05-03    6950.835501\n",
              "2020-05-04    7060.836365\n",
              "2020-05-05    7193.336106\n",
              "2020-05-06    7279.922702\n",
              "2020-05-07    7409.968865\n",
              "2020-05-08    7515.689335\n",
              "2020-05-09    7618.759935\n",
              "2020-05-10    7713.404657\n",
              "2020-05-11    7807.715909\n",
              "2020-05-12    7917.688186\n",
              "2020-05-13    8003.010074\n",
              "2020-05-14    8104.483305\n",
              "2020-05-15    8201.510523\n",
              "2020-05-16    8301.377633\n",
              "2020-05-17    8399.618019\n",
              "2020-05-18    8493.933497\n",
              "2020-05-19    8594.038536\n",
              "2020-05-20    8687.121454\n",
              "2020-05-21    8782.198796\n",
              "Freq: D, dtype: float64"
            ]
          },
          "metadata": {
            "tags": []
          },
          "execution_count": 43
        }
      ]
    },
    {
      "cell_type": "code",
      "metadata": {
        "id": "UaZD_c3t9upr",
        "colab_type": "code",
        "colab": {
          "base_uri": "https://localhost:8080/",
          "height": 824
        },
        "outputId": "9890b13d-d74b-47ca-941d-80ee41252e5b"
      },
      "source": [
        "Testd"
      ],
      "execution_count": 44,
      "outputs": [
        {
          "output_type": "execute_result",
          "data": {
            "text/html": [
              "<div>\n",
              "<style scoped>\n",
              "    .dataframe tbody tr th:only-of-type {\n",
              "        vertical-align: middle;\n",
              "    }\n",
              "\n",
              "    .dataframe tbody tr th {\n",
              "        vertical-align: top;\n",
              "    }\n",
              "\n",
              "    .dataframe thead th {\n",
              "        text-align: right;\n",
              "    }\n",
              "</style>\n",
              "<table border=\"1\" class=\"dataframe\">\n",
              "  <thead>\n",
              "    <tr style=\"text-align: right;\">\n",
              "      <th></th>\n",
              "      <th>Deaths</th>\n",
              "    </tr>\n",
              "    <tr>\n",
              "      <th>Date</th>\n",
              "      <th></th>\n",
              "    </tr>\n",
              "  </thead>\n",
              "  <tbody>\n",
              "    <tr>\n",
              "      <th>2020-04-28</th>\n",
              "      <td>6314</td>\n",
              "    </tr>\n",
              "    <tr>\n",
              "      <th>2020-04-29</th>\n",
              "      <td>6467</td>\n",
              "    </tr>\n",
              "    <tr>\n",
              "      <th>2020-04-30</th>\n",
              "      <td>6623</td>\n",
              "    </tr>\n",
              "    <tr>\n",
              "      <th>2020-05-01</th>\n",
              "      <td>6736</td>\n",
              "    </tr>\n",
              "    <tr>\n",
              "      <th>2020-05-02</th>\n",
              "      <td>6812</td>\n",
              "    </tr>\n",
              "    <tr>\n",
              "      <th>2020-05-03</th>\n",
              "      <td>6866</td>\n",
              "    </tr>\n",
              "    <tr>\n",
              "      <th>2020-05-04</th>\n",
              "      <td>6993</td>\n",
              "    </tr>\n",
              "    <tr>\n",
              "      <th>2020-05-05</th>\n",
              "      <td>6993</td>\n",
              "    </tr>\n",
              "    <tr>\n",
              "      <th>2020-05-06</th>\n",
              "      <td>7275</td>\n",
              "    </tr>\n",
              "    <tr>\n",
              "      <th>2020-05-07</th>\n",
              "      <td>7392</td>\n",
              "    </tr>\n",
              "    <tr>\n",
              "      <th>2020-05-08</th>\n",
              "      <td>7510</td>\n",
              "    </tr>\n",
              "    <tr>\n",
              "      <th>2020-05-09</th>\n",
              "      <td>7549</td>\n",
              "    </tr>\n",
              "    <tr>\n",
              "      <th>2020-05-10</th>\n",
              "      <td>7569</td>\n",
              "    </tr>\n",
              "    <tr>\n",
              "      <th>2020-05-11</th>\n",
              "      <td>7661</td>\n",
              "    </tr>\n",
              "    <tr>\n",
              "      <th>2020-05-12</th>\n",
              "      <td>7738</td>\n",
              "    </tr>\n",
              "    <tr>\n",
              "      <th>2020-05-13</th>\n",
              "      <td>7861</td>\n",
              "    </tr>\n",
              "    <tr>\n",
              "      <th>2020-05-14</th>\n",
              "      <td>7884</td>\n",
              "    </tr>\n",
              "    <tr>\n",
              "      <th>2020-05-15</th>\n",
              "      <td>7897</td>\n",
              "    </tr>\n",
              "    <tr>\n",
              "      <th>2020-05-16</th>\n",
              "      <td>7938</td>\n",
              "    </tr>\n",
              "    <tr>\n",
              "      <th>2020-05-17</th>\n",
              "      <td>7962</td>\n",
              "    </tr>\n",
              "    <tr>\n",
              "      <th>2020-05-18</th>\n",
              "      <td>8003</td>\n",
              "    </tr>\n",
              "    <tr>\n",
              "      <th>2020-05-19</th>\n",
              "      <td>8081</td>\n",
              "    </tr>\n",
              "    <tr>\n",
              "      <th>2020-05-20</th>\n",
              "      <td>8144</td>\n",
              "    </tr>\n",
              "    <tr>\n",
              "      <th>2020-05-21</th>\n",
              "      <td>8203</td>\n",
              "    </tr>\n",
              "  </tbody>\n",
              "</table>\n",
              "</div>"
            ],
            "text/plain": [
              "            Deaths\n",
              "Date              \n",
              "2020-04-28    6314\n",
              "2020-04-29    6467\n",
              "2020-04-30    6623\n",
              "2020-05-01    6736\n",
              "2020-05-02    6812\n",
              "2020-05-03    6866\n",
              "2020-05-04    6993\n",
              "2020-05-05    6993\n",
              "2020-05-06    7275\n",
              "2020-05-07    7392\n",
              "2020-05-08    7510\n",
              "2020-05-09    7549\n",
              "2020-05-10    7569\n",
              "2020-05-11    7661\n",
              "2020-05-12    7738\n",
              "2020-05-13    7861\n",
              "2020-05-14    7884\n",
              "2020-05-15    7897\n",
              "2020-05-16    7938\n",
              "2020-05-17    7962\n",
              "2020-05-18    8003\n",
              "2020-05-19    8081\n",
              "2020-05-20    8144\n",
              "2020-05-21    8203"
            ]
          },
          "metadata": {
            "tags": []
          },
          "execution_count": 44
        }
      ]
    },
    {
      "cell_type": "code",
      "metadata": {
        "id": "B8cIVeMNz0JO",
        "colab_type": "code",
        "colab": {
          "base_uri": "https://localhost:8080/",
          "height": 298
        },
        "outputId": "090e8087-608d-4f96-8b09-944b6bfa013d"
      },
      "source": [
        "plt.figure(figsize=(6,4))\n",
        "plt.plot(Testd, label=\"original\" ,color='black')\n",
        "plt.plot(Prediction1, color=\"red\", label=\"predictions\")\n",
        "plt.grid()\n",
        "error = measure_rmse(Testd, Prediction1)\n",
        "plt.xlabel('Date', fontsize=12)\n",
        "plt.ylabel('Number Of Confimed cases', fontsize=12)\n",
        "plt.legend(loc='best')\n",
        "plt.title(\"Sarima prediction for (%s) with root mean squared error %s\" % (column_name, error))\n",
        "plt.show()"
      ],
      "execution_count": 45,
      "outputs": [
        {
          "output_type": "display_data",
          "data": {
            "image/png": "[encoded data removed]",
            "text/plain": [
              "<Figure size 432x288 with 1 Axes>"
            ]
          },
          "metadata": {
            "tags": [],
            "needs_background": "light"
          }
        }
      ]
    },
    {
      "cell_type": "code",
      "metadata": {
        "id": "M7FXxXzI0B-8",
        "colab_type": "code",
        "colab": {}
      },
      "source": [
        "# Get forecast 90 steps ahead in future\n",
        "forecastt = resultd.get_forecast(steps=90)\n",
        "forecastt\n",
        "\n",
        "# Get confidence intervals of forecasts\n",
        "forecast_conf = forecastt.conf_int()"
      ],
      "execution_count": 48,
      "outputs": []
    },
    {
      "cell_type": "code",
      "metadata": {
        "id": "Kqmf4U0k0DFz",
        "colab_type": "code",
        "colab": {
          "base_uri": "https://localhost:8080/",
          "height": 400
        },
        "outputId": "607f8440-b288-4513-da4c-8724ec01fcbf"
      },
      "source": [
        "ax = ploting2.plot(label='observed', figsize=(8, 6))\n",
        "forecastt.predicted_mean.plot(ax=ax, label='Forecast', color='red')\n",
        "\n",
        "ax.set_xlabel('Date')\n",
        "ax.set_ylabel('Number of Cases')\n",
        "ax.fill_between(forecast_conf.index,\n",
        "                forecast_conf.iloc[:, 1],\n",
        "                       forecast_conf.iloc[:, 0], color='k', alpha=.25)\n",
        "\n",
        "plt.grid(color='white')\n",
        "bg_color = 'lightgrey'\n",
        "ax.patch.set_facecolor(bg_color)\n",
        "axes = plt.gca()\n",
        "#axes.set_xlim([xmin,xmax])\n",
        "#axes.set_ylim([0,600000])       \n",
        "plt.legend()\n",
        "plt.show()"
      ],
      "execution_count": 50,
      "outputs": [
        {
          "output_type": "display_data",
          "data": {
            "image/png": "[encoded data removed]",
            "text/plain": [
              "<Figure size 576x432 with 1 Axes>"
            ]
          },
          "metadata": {
            "tags": [],
            "needs_background": "light"
          }
        }
      ]
    },
    {
      "cell_type": "code",
      "metadata": {
        "id": "g23CW7Cv99eJ",
        "colab_type": "code",
        "colab": {}
      },
      "source": [
        ""
      ],
      "execution_count": null,
      "outputs": []
    }
  ]
}